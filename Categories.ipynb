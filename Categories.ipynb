{
 "cells": [
  {
   "cell_type": "markdown",
   "metadata": {},
   "source": [
    "Model 3 was selected.  Even though other models had a higher r-squared, model 3 was the only model that did not violate the independence assumption."
   ]
  },
  {
   "cell_type": "code",
   "execution_count": 1,
   "metadata": {},
   "outputs": [],
   "source": [
    "import numpy as np\n",
    "import pandas as pd\n",
    "\n",
    "import matplotlib.pyplot as plt\n",
    "import seaborn as sns\n",
    "\n",
    "import statsmodels.api as smf\n",
    "from statsmodels.formula.api import ols\n",
    "from statsmodels.stats.diagnostic import linear_rainbow, het_breuschpagan\n",
    "\n",
    "from statsmodels.stats.outliers_influence import variance_inflation_factor\n",
    "\n",
    "from sklearn.preprocessing import LabelEncoder"
   ]
  },
  {
   "cell_type": "code",
   "execution_count": 2,
   "metadata": {},
   "outputs": [],
   "source": [
    "df_RPSale = pd.read_csv(\"EXTR_RPSale.csv\", dtype = str)\n",
    "df_LookUp = pd.read_csv(\"EXTR_LookUp.csv\", dtype = str)\n",
    "df_Parcel = pd.read_csv(\"EXTR_Parcel.csv\", dtype = str)\n",
    "df_ResBldg = pd.read_csv(\"EXTR_ResBldg.csv\", dtype = str)"
   ]
  },
  {
   "cell_type": "code",
   "execution_count": 3,
   "metadata": {},
   "outputs": [],
   "source": [
    "sale_bldg = df_RPSale.merge(df_Parcel, on = [\"Major\", \"Minor\"]).merge(df_ResBldg, on = [\"Major\", \"Minor\"] )"
   ]
  },
  {
   "cell_type": "code",
   "execution_count": 4,
   "metadata": {},
   "outputs": [],
   "source": [
    "cols = list(sale_bldg.columns)\n",
    "cols = [cols[4]] + cols[:4] + cols[5:]\n",
    "sale_bldg = sale_bldg[cols]"
   ]
  },
  {
   "cell_type": "code",
   "execution_count": 5,
   "metadata": {},
   "outputs": [],
   "source": [
    "sale_bldg = sale_bldg.apply(pd.to_numeric, errors='ignore')"
   ]
  },
  {
   "cell_type": "code",
   "execution_count": 6,
   "metadata": {},
   "outputs": [],
   "source": [
    "sale_bldg=sale_bldg[(sale_bldg.PropertyType==11)|(sale_bldg.PropertyType==12)|(sale_bldg.PropertyType==13)|(sale_bldg.PropertyType==14)|(sale_bldg.PropertyType==18)]"
   ]
  },
  {
   "cell_type": "code",
   "execution_count": 7,
   "metadata": {},
   "outputs": [],
   "source": [
    "sale_bldg = sale_bldg[sale_bldg.PrincipalUse==6]"
   ]
  },
  {
   "cell_type": "code",
   "execution_count": 8,
   "metadata": {},
   "outputs": [],
   "source": [
    "features = sale_bldg.filter(['SalePrice', 'SqFtTotLiving', 'BathFullCount', 'Bedrooms', 'SqFtOpenPorch', 'SqFtEnclosedPorch', 'SqFtTotBasement', 'SqFtFinBasement', 'HeatSource'], axis=1)"
   ]
  },
  {
   "cell_type": "code",
   "execution_count": 9,
   "metadata": {},
   "outputs": [],
   "source": [
    "sp_over_25k = features[features.SalePrice>25000]"
   ]
  },
  {
   "cell_type": "code",
   "execution_count": 10,
   "metadata": {},
   "outputs": [],
   "source": [
    "model_3 = sp_over_25k[[\"SalePrice\", \"SqFtTotLiving\", \"SqFtTotBasement\"]].copy()\n",
    "model_3.dropna(inplace=True)"
   ]
  },
  {
   "cell_type": "code",
   "execution_count": 11,
   "metadata": {},
   "outputs": [],
   "source": [
    "model_3 = ols(formula=\"SalePrice ~ SqFtTotLiving + SqFtTotBasement\", data=model_3)\n",
    "model_3_results = model_3.fit()"
   ]
  },
  {
   "cell_type": "code",
   "execution_count": 12,
   "metadata": {},
   "outputs": [
    {
     "data": {
      "text/html": [
       "<table class=\"simpletable\">\n",
       "<caption>OLS Regression Results</caption>\n",
       "<tr>\n",
       "  <th>Dep. Variable:</th>        <td>SalePrice</td>    <th>  R-squared:         </th>  <td>   0.353</td>  \n",
       "</tr>\n",
       "<tr>\n",
       "  <th>Model:</th>                   <td>OLS</td>       <th>  Adj. R-squared:    </th>  <td>   0.353</td>  \n",
       "</tr>\n",
       "<tr>\n",
       "  <th>Method:</th>             <td>Least Squares</td>  <th>  F-statistic:       </th>  <td>1.914e+04</td> \n",
       "</tr>\n",
       "<tr>\n",
       "  <th>Date:</th>             <td>Mon, 29 Mar 2021</td> <th>  Prob (F-statistic):</th>   <td>  0.00</td>   \n",
       "</tr>\n",
       "<tr>\n",
       "  <th>Time:</th>                 <td>06:40:06</td>     <th>  Log-Likelihood:    </th> <td>-1.0137e+06</td>\n",
       "</tr>\n",
       "<tr>\n",
       "  <th>No. Observations:</th>      <td> 70238</td>      <th>  AIC:               </th>  <td>2.027e+06</td> \n",
       "</tr>\n",
       "<tr>\n",
       "  <th>Df Residuals:</th>          <td> 70235</td>      <th>  BIC:               </th>  <td>2.027e+06</td> \n",
       "</tr>\n",
       "<tr>\n",
       "  <th>Df Model:</th>              <td>     2</td>      <th>                     </th>      <td> </td>     \n",
       "</tr>\n",
       "<tr>\n",
       "  <th>Covariance Type:</th>      <td>nonrobust</td>    <th>                     </th>      <td> </td>     \n",
       "</tr>\n",
       "</table>\n",
       "<table class=\"simpletable\">\n",
       "<tr>\n",
       "         <td></td>            <th>coef</th>     <th>std err</th>      <th>t</th>      <th>P>|t|</th>  <th>[0.025</th>    <th>0.975]</th>  \n",
       "</tr>\n",
       "<tr>\n",
       "  <th>Intercept</th>       <td> 2.094e+04</td> <td> 4058.861</td> <td>    5.160</td> <td> 0.000</td> <td>  1.3e+04</td> <td> 2.89e+04</td>\n",
       "</tr>\n",
       "<tr>\n",
       "  <th>SqFtTotLiving</th>   <td>  322.2328</td> <td>    1.834</td> <td>  175.723</td> <td> 0.000</td> <td>  318.639</td> <td>  325.827</td>\n",
       "</tr>\n",
       "<tr>\n",
       "  <th>SqFtTotBasement</th> <td>   70.0906</td> <td>    3.081</td> <td>   22.748</td> <td> 0.000</td> <td>   64.052</td> <td>   76.130</td>\n",
       "</tr>\n",
       "</table>\n",
       "<table class=\"simpletable\">\n",
       "<tr>\n",
       "  <th>Omnibus:</th>       <td>102661.959</td> <th>  Durbin-Watson:     </th>   <td>   1.853</td>   \n",
       "</tr>\n",
       "<tr>\n",
       "  <th>Prob(Omnibus):</th>   <td> 0.000</td>   <th>  Jarque-Bera (JB):  </th> <td>182911237.529</td>\n",
       "</tr>\n",
       "<tr>\n",
       "  <th>Skew:</th>            <td> 8.259</td>   <th>  Prob(JB):          </th>   <td>    0.00</td>   \n",
       "</tr>\n",
       "<tr>\n",
       "  <th>Kurtosis:</th>        <td>252.454</td>  <th>  Cond. No.          </th>   <td>5.77e+03</td>   \n",
       "</tr>\n",
       "</table><br/><br/>Warnings:<br/>[1] Standard Errors assume that the covariance matrix of the errors is correctly specified.<br/>[2] The condition number is large, 5.77e+03. This might indicate that there are<br/>strong multicollinearity or other numerical problems."
      ],
      "text/plain": [
       "<class 'statsmodels.iolib.summary.Summary'>\n",
       "\"\"\"\n",
       "                            OLS Regression Results                            \n",
       "==============================================================================\n",
       "Dep. Variable:              SalePrice   R-squared:                       0.353\n",
       "Model:                            OLS   Adj. R-squared:                  0.353\n",
       "Method:                 Least Squares   F-statistic:                 1.914e+04\n",
       "Date:                Mon, 29 Mar 2021   Prob (F-statistic):               0.00\n",
       "Time:                        06:40:06   Log-Likelihood:            -1.0137e+06\n",
       "No. Observations:               70238   AIC:                         2.027e+06\n",
       "Df Residuals:                   70235   BIC:                         2.027e+06\n",
       "Df Model:                           2                                         \n",
       "Covariance Type:            nonrobust                                         \n",
       "===================================================================================\n",
       "                      coef    std err          t      P>|t|      [0.025      0.975]\n",
       "-----------------------------------------------------------------------------------\n",
       "Intercept        2.094e+04   4058.861      5.160      0.000     1.3e+04    2.89e+04\n",
       "SqFtTotLiving     322.2328      1.834    175.723      0.000     318.639     325.827\n",
       "SqFtTotBasement    70.0906      3.081     22.748      0.000      64.052      76.130\n",
       "==============================================================================\n",
       "Omnibus:                   102661.959   Durbin-Watson:                   1.853\n",
       "Prob(Omnibus):                  0.000   Jarque-Bera (JB):        182911237.529\n",
       "Skew:                           8.259   Prob(JB):                         0.00\n",
       "Kurtosis:                     252.454   Cond. No.                     5.77e+03\n",
       "==============================================================================\n",
       "\n",
       "Warnings:\n",
       "[1] Standard Errors assume that the covariance matrix of the errors is correctly specified.\n",
       "[2] The condition number is large, 5.77e+03. This might indicate that there are\n",
       "strong multicollinearity or other numerical problems.\n",
       "\"\"\""
      ]
     },
     "execution_count": 12,
     "metadata": {},
     "output_type": "execute_result"
    }
   ],
   "source": [
    "model_3_results.summary()"
   ]
  },
  {
   "cell_type": "code",
   "execution_count": 13,
   "metadata": {},
   "outputs": [
    {
     "name": "stdout",
     "output_type": "stream",
     "text": [
      "Rainbow statistic: 1.2301813621394888\n",
      "Rainbow p-value: 4.402862358833473e-84\n"
     ]
    }
   ],
   "source": [
    "rainbow_statistic, rainbow_p_value = linear_rainbow(model_3_results)\n",
    "print(\"Rainbow statistic:\", rainbow_statistic)\n",
    "print(\"Rainbow p-value:\", rainbow_p_value)"
   ]
  },
  {
   "cell_type": "code",
   "execution_count": 14,
   "metadata": {},
   "outputs": [],
   "source": [
    "y = sp_over_25k[\"SalePrice\"]\n",
    "y_hat = model_3_results.predict()"
   ]
  },
  {
   "cell_type": "code",
   "execution_count": 15,
   "metadata": {},
   "outputs": [
    {
     "data": {
      "image/png": "[encoded data removed]",
      "text/plain": [
       "<Figure size 432x288 with 1 Axes>"
      ]
     },
     "metadata": {
      "needs_background": "light"
     },
     "output_type": "display_data"
    }
   ],
   "source": [
    "fig5, ax5 = plt.subplots()\n",
    "ax5.set(xlabel=\"Predicted Sale Price\",\n",
    "        ylabel=\"Residuals (Predicted - Actual Sale Price)\")\n",
    "ax5.scatter(x=y_hat, y=y_hat-y, color=\"blue\", alpha=0.2);"
   ]
  },
  {
   "cell_type": "code",
   "execution_count": 16,
   "metadata": {},
   "outputs": [
    {
     "data": {
      "text/html": [
       "<div>\n",
       "<style scoped>\n",
       "    .dataframe tbody tr th:only-of-type {\n",
       "        vertical-align: middle;\n",
       "    }\n",
       "\n",
       "    .dataframe tbody tr th {\n",
       "        vertical-align: top;\n",
       "    }\n",
       "\n",
       "    .dataframe thead th {\n",
       "        text-align: right;\n",
       "    }\n",
       "</style>\n",
       "<table border=\"1\" class=\"dataframe\">\n",
       "  <thead>\n",
       "    <tr style=\"text-align: right;\">\n",
       "      <th></th>\n",
       "      <th>VIF</th>\n",
       "      <th>feature</th>\n",
       "    </tr>\n",
       "  </thead>\n",
       "  <tbody>\n",
       "    <tr>\n",
       "      <th>0</th>\n",
       "      <td>1.891653</td>\n",
       "      <td>SqFtTotLiving</td>\n",
       "    </tr>\n",
       "    <tr>\n",
       "      <th>1</th>\n",
       "      <td>1.891653</td>\n",
       "      <td>SqFtTotBasement</td>\n",
       "    </tr>\n",
       "  </tbody>\n",
       "</table>\n",
       "</div>"
      ],
      "text/plain": [
       "        VIF          feature\n",
       "0  1.891653    SqFtTotLiving\n",
       "1  1.891653  SqFtTotBasement"
      ]
     },
     "execution_count": 16,
     "metadata": {},
     "output_type": "execute_result"
    }
   ],
   "source": [
    "rows = sp_over_25k[[\"SqFtTotLiving\", \"SqFtTotBasement\"]].values\n",
    "\n",
    "vif_df = pd.DataFrame()\n",
    "vif_df[\"VIF\"] = [variance_inflation_factor(rows, i) for i in range(2)]\n",
    "vif_df[\"feature\"] = [\"SqFtTotLiving\", \"SqFtTotBasement\"]\n",
    "\n",
    "vif_df"
   ]
  },
  {
   "cell_type": "code",
   "execution_count": 17,
   "metadata": {},
   "outputs": [],
   "source": [
    "def forward_selected(data, response):\n",
    "    \"\"\"Linear model designed by forward selection.\n",
    "\n",
    "    Parameters:\n",
    "    -----------\n",
    "    data : pandas DataFrame with all possible predictors and response\n",
    "\n",
    "    response: string, name of response column in data\n",
    "\n",
    "    Returns:\n",
    "    --------\n",
    "    model: an \"optimal\" fitted statsmodels linear model\n",
    "           with an intercept\n",
    "           selected by forward selection\n",
    "           evaluated by adjusted R-squared\n",
    "    \"\"\"\n",
    "    remaining = set(data.columns)\n",
    "    remaining.remove(response)\n",
    "    selected = []\n",
    "    current_score, best_new_score = 0.0, 0.0\n",
    "    while remaining and current_score == best_new_score:\n",
    "        scores_with_candidates = []\n",
    "        for candidate in remaining:\n",
    "            formula = \"{} ~ {} + 1\".format(response,\n",
    "                                           ' + '.join(selected + [candidate]))\n",
    "            score = ols(formula, data).fit().rsquared_adj\n",
    "            scores_with_candidates.append((score, candidate))\n",
    "        scores_with_candidates.sort()\n",
    "        best_new_score, best_candidate = scores_with_candidates.pop()\n",
    "        if current_score < best_new_score:\n",
    "            remaining.remove(best_candidate)\n",
    "            selected.append(best_candidate)\n",
    "            current_score = best_new_score\n",
    "    formula = \"{} ~ {} + 1\".format(response,\n",
    "                                   ' + '.join(selected))\n",
    "    model = ols(formula, data).fit()\n",
    "    return model"
   ]
  },
  {
   "cell_type": "code",
   "execution_count": 18,
   "metadata": {},
   "outputs": [],
   "source": [
    "fs_model = forward_selected(sp_over_25k, 'SalePrice')"
   ]
  },
  {
   "cell_type": "code",
   "execution_count": 19,
   "metadata": {},
   "outputs": [
    {
     "data": {
      "text/html": [
       "<table class=\"simpletable\">\n",
       "<caption>OLS Regression Results</caption>\n",
       "<tr>\n",
       "  <th>Dep. Variable:</th>        <td>SalePrice</td>    <th>  R-squared:         </th>  <td>   0.382</td>  \n",
       "</tr>\n",
       "<tr>\n",
       "  <th>Model:</th>                   <td>OLS</td>       <th>  Adj. R-squared:    </th>  <td>   0.382</td>  \n",
       "</tr>\n",
       "<tr>\n",
       "  <th>Method:</th>             <td>Least Squares</td>  <th>  F-statistic:       </th>  <td>   5431.</td>  \n",
       "</tr>\n",
       "<tr>\n",
       "  <th>Date:</th>             <td>Mon, 29 Mar 2021</td> <th>  Prob (F-statistic):</th>   <td>  0.00</td>   \n",
       "</tr>\n",
       "<tr>\n",
       "  <th>Time:</th>                 <td>06:40:09</td>     <th>  Log-Likelihood:    </th> <td>-1.0120e+06</td>\n",
       "</tr>\n",
       "<tr>\n",
       "  <th>No. Observations:</th>      <td> 70238</td>      <th>  AIC:               </th>  <td>2.024e+06</td> \n",
       "</tr>\n",
       "<tr>\n",
       "  <th>Df Residuals:</th>          <td> 70229</td>      <th>  BIC:               </th>  <td>2.024e+06</td> \n",
       "</tr>\n",
       "<tr>\n",
       "  <th>Df Model:</th>              <td>     8</td>      <th>                     </th>      <td> </td>     \n",
       "</tr>\n",
       "<tr>\n",
       "  <th>Covariance Type:</th>      <td>nonrobust</td>    <th>                     </th>      <td> </td>     \n",
       "</tr>\n",
       "</table>\n",
       "<table class=\"simpletable\">\n",
       "<tr>\n",
       "          <td></td>             <th>coef</th>     <th>std err</th>      <th>t</th>      <th>P>|t|</th>  <th>[0.025</th>    <th>0.975]</th>  \n",
       "</tr>\n",
       "<tr>\n",
       "  <th>Intercept</th>         <td> 2.977e+05</td> <td> 9254.476</td> <td>   32.171</td> <td> 0.000</td> <td>  2.8e+05</td> <td> 3.16e+05</td>\n",
       "</tr>\n",
       "<tr>\n",
       "  <th>SqFtTotLiving</th>     <td>  395.3587</td> <td>    2.750</td> <td>  143.755</td> <td> 0.000</td> <td>  389.968</td> <td>  400.749</td>\n",
       "</tr>\n",
       "<tr>\n",
       "  <th>Bedrooms</th>          <td>-1.098e+05</td> <td> 2245.815</td> <td>  -48.895</td> <td> 0.000</td> <td>-1.14e+05</td> <td>-1.05e+05</td>\n",
       "</tr>\n",
       "<tr>\n",
       "  <th>SqFtTotBasement</th>   <td>  159.9029</td> <td>    5.618</td> <td>   28.462</td> <td> 0.000</td> <td>  148.891</td> <td>  170.914</td>\n",
       "</tr>\n",
       "<tr>\n",
       "  <th>SqFtFinBasement</th>   <td> -129.0852</td> <td>    7.478</td> <td>  -17.262</td> <td> 0.000</td> <td> -143.742</td> <td> -114.428</td>\n",
       "</tr>\n",
       "<tr>\n",
       "  <th>SqFtOpenPorch</th>     <td>  189.8515</td> <td>   14.338</td> <td>   13.241</td> <td> 0.000</td> <td>  161.749</td> <td>  217.954</td>\n",
       "</tr>\n",
       "<tr>\n",
       "  <th>BathFullCount</th>     <td>-2.029e+04</td> <td> 2930.579</td> <td>   -6.925</td> <td> 0.000</td> <td> -2.6e+04</td> <td>-1.46e+04</td>\n",
       "</tr>\n",
       "<tr>\n",
       "  <th>HeatSource</th>        <td>-2.006e+04</td> <td> 2933.511</td> <td>   -6.837</td> <td> 0.000</td> <td>-2.58e+04</td> <td>-1.43e+04</td>\n",
       "</tr>\n",
       "<tr>\n",
       "  <th>SqFtEnclosedPorch</th> <td>  191.6334</td> <td>   44.326</td> <td>    4.323</td> <td> 0.000</td> <td>  104.755</td> <td>  278.512</td>\n",
       "</tr>\n",
       "</table>\n",
       "<table class=\"simpletable\">\n",
       "<tr>\n",
       "  <th>Omnibus:</th>       <td>102940.527</td> <th>  Durbin-Watson:     </th>   <td>   1.857</td>   \n",
       "</tr>\n",
       "<tr>\n",
       "  <th>Prob(Omnibus):</th>   <td> 0.000</td>   <th>  Jarque-Bera (JB):  </th> <td>196380554.387</td>\n",
       "</tr>\n",
       "<tr>\n",
       "  <th>Skew:</th>            <td> 8.280</td>   <th>  Prob(JB):          </th>   <td>    0.00</td>   \n",
       "</tr>\n",
       "<tr>\n",
       "  <th>Kurtosis:</th>        <td>261.511</td>  <th>  Cond. No.          </th>   <td>1.41e+04</td>   \n",
       "</tr>\n",
       "</table><br/><br/>Warnings:<br/>[1] Standard Errors assume that the covariance matrix of the errors is correctly specified.<br/>[2] The condition number is large, 1.41e+04. This might indicate that there are<br/>strong multicollinearity or other numerical problems."
      ],
      "text/plain": [
       "<class 'statsmodels.iolib.summary.Summary'>\n",
       "\"\"\"\n",
       "                            OLS Regression Results                            \n",
       "==============================================================================\n",
       "Dep. Variable:              SalePrice   R-squared:                       0.382\n",
       "Model:                            OLS   Adj. R-squared:                  0.382\n",
       "Method:                 Least Squares   F-statistic:                     5431.\n",
       "Date:                Mon, 29 Mar 2021   Prob (F-statistic):               0.00\n",
       "Time:                        06:40:09   Log-Likelihood:            -1.0120e+06\n",
       "No. Observations:               70238   AIC:                         2.024e+06\n",
       "Df Residuals:                   70229   BIC:                         2.024e+06\n",
       "Df Model:                           8                                         \n",
       "Covariance Type:            nonrobust                                         \n",
       "=====================================================================================\n",
       "                        coef    std err          t      P>|t|      [0.025      0.975]\n",
       "-------------------------------------------------------------------------------------\n",
       "Intercept          2.977e+05   9254.476     32.171      0.000     2.8e+05    3.16e+05\n",
       "SqFtTotLiving       395.3587      2.750    143.755      0.000     389.968     400.749\n",
       "Bedrooms          -1.098e+05   2245.815    -48.895      0.000   -1.14e+05   -1.05e+05\n",
       "SqFtTotBasement     159.9029      5.618     28.462      0.000     148.891     170.914\n",
       "SqFtFinBasement    -129.0852      7.478    -17.262      0.000    -143.742    -114.428\n",
       "SqFtOpenPorch       189.8515     14.338     13.241      0.000     161.749     217.954\n",
       "BathFullCount     -2.029e+04   2930.579     -6.925      0.000    -2.6e+04   -1.46e+04\n",
       "HeatSource        -2.006e+04   2933.511     -6.837      0.000   -2.58e+04   -1.43e+04\n",
       "SqFtEnclosedPorch   191.6334     44.326      4.323      0.000     104.755     278.512\n",
       "==============================================================================\n",
       "Omnibus:                   102940.527   Durbin-Watson:                   1.857\n",
       "Prob(Omnibus):                  0.000   Jarque-Bera (JB):        196380554.387\n",
       "Skew:                           8.280   Prob(JB):                         0.00\n",
       "Kurtosis:                     261.511   Cond. No.                     1.41e+04\n",
       "==============================================================================\n",
       "\n",
       "Warnings:\n",
       "[1] Standard Errors assume that the covariance matrix of the errors is correctly specified.\n",
       "[2] The condition number is large, 1.41e+04. This might indicate that there are\n",
       "strong multicollinearity or other numerical problems.\n",
       "\"\"\""
      ]
     },
     "execution_count": 19,
     "metadata": {},
     "output_type": "execute_result"
    }
   ],
   "source": [
    "fs_model.summary()"
   ]
  },
  {
   "cell_type": "code",
   "execution_count": 20,
   "metadata": {},
   "outputs": [],
   "source": [
    "heat_source = sp_over_25k[(sp_over_25k.HeatSource==2)|(sp_over_25k.HeatSource==6)]"
   ]
  },
  {
   "cell_type": "code",
   "execution_count": 21,
   "metadata": {},
   "outputs": [],
   "source": [
    "heat_source = heat_source[heat_source.SalePrice<5000000]"
   ]
  },
  {
   "cell_type": "code",
   "execution_count": 22,
   "metadata": {},
   "outputs": [],
   "source": [
    "fs_model_heat_source = forward_selected(heat_source, 'SalePrice')"
   ]
  },
  {
   "cell_type": "code",
   "execution_count": 23,
   "metadata": {},
   "outputs": [
    {
     "data": {
      "text/html": [
       "<table class=\"simpletable\">\n",
       "<caption>OLS Regression Results</caption>\n",
       "<tr>\n",
       "  <th>Dep. Variable:</th>        <td>SalePrice</td>    <th>  R-squared:         </th>  <td>   0.445</td>  \n",
       "</tr>\n",
       "<tr>\n",
       "  <th>Model:</th>                   <td>OLS</td>       <th>  Adj. R-squared:    </th>  <td>   0.445</td>  \n",
       "</tr>\n",
       "<tr>\n",
       "  <th>Method:</th>             <td>Least Squares</td>  <th>  F-statistic:       </th>  <td>   5758.</td>  \n",
       "</tr>\n",
       "<tr>\n",
       "  <th>Date:</th>             <td>Mon, 29 Mar 2021</td> <th>  Prob (F-statistic):</th>   <td>  0.00</td>   \n",
       "</tr>\n",
       "<tr>\n",
       "  <th>Time:</th>                 <td>06:40:11</td>     <th>  Log-Likelihood:    </th> <td>-7.1677e+05</td>\n",
       "</tr>\n",
       "<tr>\n",
       "  <th>No. Observations:</th>      <td> 50286</td>      <th>  AIC:               </th>  <td>1.434e+06</td> \n",
       "</tr>\n",
       "<tr>\n",
       "  <th>Df Residuals:</th>          <td> 50278</td>      <th>  BIC:               </th>  <td>1.434e+06</td> \n",
       "</tr>\n",
       "<tr>\n",
       "  <th>Df Model:</th>              <td>     7</td>      <th>                     </th>      <td> </td>     \n",
       "</tr>\n",
       "<tr>\n",
       "  <th>Covariance Type:</th>      <td>nonrobust</td>    <th>                     </th>      <td> </td>     \n",
       "</tr>\n",
       "</table>\n",
       "<table class=\"simpletable\">\n",
       "<tr>\n",
       "          <td></td>             <th>coef</th>     <th>std err</th>      <th>t</th>      <th>P>|t|</th>  <th>[0.025</th>    <th>0.975]</th>  \n",
       "</tr>\n",
       "<tr>\n",
       "  <th>Intercept</th>         <td> 2.499e+05</td> <td> 7033.825</td> <td>   35.530</td> <td> 0.000</td> <td> 2.36e+05</td> <td> 2.64e+05</td>\n",
       "</tr>\n",
       "<tr>\n",
       "  <th>SqFtTotLiving</th>     <td>  376.6714</td> <td>    2.712</td> <td>  138.878</td> <td> 0.000</td> <td>  371.355</td> <td>  381.987</td>\n",
       "</tr>\n",
       "<tr>\n",
       "  <th>Bedrooms</th>          <td>-1.002e+05</td> <td> 2356.628</td> <td>  -42.535</td> <td> 0.000</td> <td>-1.05e+05</td> <td>-9.56e+04</td>\n",
       "</tr>\n",
       "<tr>\n",
       "  <th>SqFtTotBasement</th>   <td>  153.9168</td> <td>    5.954</td> <td>   25.850</td> <td> 0.000</td> <td>  142.246</td> <td>  165.587</td>\n",
       "</tr>\n",
       "<tr>\n",
       "  <th>SqFtFinBasement</th>   <td> -102.3782</td> <td>    7.835</td> <td>  -13.066</td> <td> 0.000</td> <td> -117.736</td> <td>  -87.021</td>\n",
       "</tr>\n",
       "<tr>\n",
       "  <th>SqFtOpenPorch</th>     <td>  160.3753</td> <td>   13.817</td> <td>   11.607</td> <td> 0.000</td> <td>  133.294</td> <td>  187.457</td>\n",
       "</tr>\n",
       "<tr>\n",
       "  <th>BathFullCount</th>     <td> -2.09e+04</td> <td> 2905.829</td> <td>   -7.191</td> <td> 0.000</td> <td>-2.66e+04</td> <td>-1.52e+04</td>\n",
       "</tr>\n",
       "<tr>\n",
       "  <th>SqFtEnclosedPorch</th> <td>  203.2481</td> <td>   51.231</td> <td>    3.967</td> <td> 0.000</td> <td>  102.836</td> <td>  303.660</td>\n",
       "</tr>\n",
       "</table>\n",
       "<table class=\"simpletable\">\n",
       "<tr>\n",
       "  <th>Omnibus:</th>       <td>20725.257</td> <th>  Durbin-Watson:     </th>  <td>   1.897</td> \n",
       "</tr>\n",
       "<tr>\n",
       "  <th>Prob(Omnibus):</th>  <td> 0.000</td>   <th>  Jarque-Bera (JB):  </th> <td>235534.801</td>\n",
       "</tr>\n",
       "<tr>\n",
       "  <th>Skew:</th>           <td> 1.668</td>   <th>  Prob(JB):          </th>  <td>    0.00</td> \n",
       "</tr>\n",
       "<tr>\n",
       "  <th>Kurtosis:</th>       <td>13.064</td>   <th>  Cond. No.          </th>  <td>1.11e+04</td> \n",
       "</tr>\n",
       "</table><br/><br/>Warnings:<br/>[1] Standard Errors assume that the covariance matrix of the errors is correctly specified.<br/>[2] The condition number is large, 1.11e+04. This might indicate that there are<br/>strong multicollinearity or other numerical problems."
      ],
      "text/plain": [
       "<class 'statsmodels.iolib.summary.Summary'>\n",
       "\"\"\"\n",
       "                            OLS Regression Results                            \n",
       "==============================================================================\n",
       "Dep. Variable:              SalePrice   R-squared:                       0.445\n",
       "Model:                            OLS   Adj. R-squared:                  0.445\n",
       "Method:                 Least Squares   F-statistic:                     5758.\n",
       "Date:                Mon, 29 Mar 2021   Prob (F-statistic):               0.00\n",
       "Time:                        06:40:11   Log-Likelihood:            -7.1677e+05\n",
       "No. Observations:               50286   AIC:                         1.434e+06\n",
       "Df Residuals:                   50278   BIC:                         1.434e+06\n",
       "Df Model:                           7                                         \n",
       "Covariance Type:            nonrobust                                         \n",
       "=====================================================================================\n",
       "                        coef    std err          t      P>|t|      [0.025      0.975]\n",
       "-------------------------------------------------------------------------------------\n",
       "Intercept          2.499e+05   7033.825     35.530      0.000    2.36e+05    2.64e+05\n",
       "SqFtTotLiving       376.6714      2.712    138.878      0.000     371.355     381.987\n",
       "Bedrooms          -1.002e+05   2356.628    -42.535      0.000   -1.05e+05   -9.56e+04\n",
       "SqFtTotBasement     153.9168      5.954     25.850      0.000     142.246     165.587\n",
       "SqFtFinBasement    -102.3782      7.835    -13.066      0.000    -117.736     -87.021\n",
       "SqFtOpenPorch       160.3753     13.817     11.607      0.000     133.294     187.457\n",
       "BathFullCount      -2.09e+04   2905.829     -7.191      0.000   -2.66e+04   -1.52e+04\n",
       "SqFtEnclosedPorch   203.2481     51.231      3.967      0.000     102.836     303.660\n",
       "==============================================================================\n",
       "Omnibus:                    20725.257   Durbin-Watson:                   1.897\n",
       "Prob(Omnibus):                  0.000   Jarque-Bera (JB):           235534.801\n",
       "Skew:                           1.668   Prob(JB):                         0.00\n",
       "Kurtosis:                      13.064   Cond. No.                     1.11e+04\n",
       "==============================================================================\n",
       "\n",
       "Warnings:\n",
       "[1] Standard Errors assume that the covariance matrix of the errors is correctly specified.\n",
       "[2] The condition number is large, 1.11e+04. This might indicate that there are\n",
       "strong multicollinearity or other numerical problems.\n",
       "\"\"\""
      ]
     },
     "execution_count": 23,
     "metadata": {},
     "output_type": "execute_result"
    }
   ],
   "source": [
    "fs_model_heat_source.summary()"
   ]
  },
  {
   "cell_type": "code",
   "execution_count": 24,
   "metadata": {},
   "outputs": [
    {
     "name": "stdout",
     "output_type": "stream",
     "text": [
      "Rainbow statistic: 1.0151780094287146\n",
      "Rainbow p-value: 0.116200004199868\n"
     ]
    }
   ],
   "source": [
    "rainbow_statistic, rainbow_p_value = linear_rainbow(fs_model_heat_source)\n",
    "print(\"Rainbow statistic:\", rainbow_statistic)\n",
    "print(\"Rainbow p-value:\", rainbow_p_value)"
   ]
  },
  {
   "cell_type": "code",
   "execution_count": 25,
   "metadata": {},
   "outputs": [],
   "source": [
    "y_heat = heat_source[\"SalePrice\"]\n",
    "y_hat_heat = fs_model_heat_source.predict()"
   ]
  },
  {
   "cell_type": "code",
   "execution_count": 26,
   "metadata": {},
   "outputs": [
    {
     "data": {
      "image/png": "[encoded data removed]",
      "text/plain": [
       "<Figure size 432x288 with 1 Axes>"
      ]
     },
     "metadata": {
      "needs_background": "light"
     },
     "output_type": "display_data"
    }
   ],
   "source": [
    "fig5, ax5 = plt.subplots()\n",
    "ax5.set(xlabel=\"Predicted Sale Price\",\n",
    "        ylabel=\"Residuals (Predicted - Actual Sale Price)\")\n",
    "ax5.scatter(x=y_hat_heat, y=y_hat_heat-y_heat, color=\"blue\", alpha=0.2);"
   ]
  },
  {
   "cell_type": "code",
   "execution_count": 27,
   "metadata": {},
   "outputs": [
    {
     "data": {
      "text/html": [
       "<div>\n",
       "<style scoped>\n",
       "    .dataframe tbody tr th:only-of-type {\n",
       "        vertical-align: middle;\n",
       "    }\n",
       "\n",
       "    .dataframe tbody tr th {\n",
       "        vertical-align: top;\n",
       "    }\n",
       "\n",
       "    .dataframe thead th {\n",
       "        text-align: right;\n",
       "    }\n",
       "</style>\n",
       "<table border=\"1\" class=\"dataframe\">\n",
       "  <thead>\n",
       "    <tr style=\"text-align: right;\">\n",
       "      <th></th>\n",
       "      <th>VIF</th>\n",
       "      <th>feature</th>\n",
       "    </tr>\n",
       "  </thead>\n",
       "  <tbody>\n",
       "    <tr>\n",
       "      <th>0</th>\n",
       "      <td>1.790948</td>\n",
       "      <td>SqFtTotLiving</td>\n",
       "    </tr>\n",
       "    <tr>\n",
       "      <th>1</th>\n",
       "      <td>1.790948</td>\n",
       "      <td>SqFtTotBasement</td>\n",
       "    </tr>\n",
       "  </tbody>\n",
       "</table>\n",
       "</div>"
      ],
      "text/plain": [
       "        VIF          feature\n",
       "0  1.790948    SqFtTotLiving\n",
       "1  1.790948  SqFtTotBasement"
      ]
     },
     "execution_count": 27,
     "metadata": {},
     "output_type": "execute_result"
    }
   ],
   "source": [
    "rows_heat = heat_source[[\"SqFtTotLiving\", \"SqFtTotBasement\"]].values\n",
    "\n",
    "vif_df_heat = pd.DataFrame()\n",
    "vif_df_heat[\"VIF\"] = [variance_inflation_factor(rows_heat, i) for i in range(2)]\n",
    "vif_df_heat[\"feature\"] = [\"SqFtTotLiving\", \"SqFtTotBasement\"]\n",
    "\n",
    "vif_df_heat"
   ]
  },
  {
   "cell_type": "code",
   "execution_count": 28,
   "metadata": {},
   "outputs": [],
   "source": [
    "model_heat = heat_source[[\"SalePrice\", \"SqFtTotLiving\", \"Bedrooms\", \"HeatSource\"]].copy()\n",
    "model_heat.dropna(inplace=True)"
   ]
  },
  {
   "cell_type": "code",
   "execution_count": 29,
   "metadata": {},
   "outputs": [
    {
     "data": {
      "text/plain": [
       "2    50224\n",
       "6       62\n",
       "Name: HeatSource, dtype: int64"
      ]
     },
     "execution_count": 29,
     "metadata": {},
     "output_type": "execute_result"
    }
   ],
   "source": [
    "model_heat[\"HeatSource\"].value_counts()"
   ]
  },
  {
   "cell_type": "code",
   "execution_count": 30,
   "metadata": {},
   "outputs": [
    {
     "data": {
      "image/png": "[encoded data removed]",
      "text/plain": [
       "<Figure size 360x360 with 1 Axes>"
      ]
     },
     "metadata": {
      "needs_background": "light"
     },
     "output_type": "display_data"
    }
   ],
   "source": [
    "sns.catplot(x=\"HeatSource\", y=\"SalePrice\", data=model_heat, kind=\"violin\");"
   ]
  },
  {
   "cell_type": "code",
   "execution_count": 31,
   "metadata": {},
   "outputs": [
    {
     "data": {
      "text/plain": [
       "array([0, 0, 0, ..., 0, 0, 0], dtype=int64)"
      ]
     },
     "execution_count": 31,
     "metadata": {},
     "output_type": "execute_result"
    }
   ],
   "source": [
    "label_encoder = LabelEncoder()\n",
    "status_labels_heat = label_encoder.fit_transform(model_heat[\"HeatSource\"])\n",
    "status_labels_heat"
   ]
  },
  {
   "cell_type": "code",
   "execution_count": 32,
   "metadata": {},
   "outputs": [
    {
     "data": {
      "text/plain": [
       "array([2, 6], dtype=int64)"
      ]
     },
     "execution_count": 32,
     "metadata": {},
     "output_type": "execute_result"
    }
   ],
   "source": [
    "label_encoder.classes_"
   ]
  },
  {
   "cell_type": "code",
   "execution_count": 33,
   "metadata": {},
   "outputs": [],
   "source": [
    "model_heat[\"HeatSource_Status_Encoded\"] = status_labels_heat\n",
    "model_heat.drop(\"HeatSource\", axis=1, inplace=True)"
   ]
  },
  {
   "cell_type": "code",
   "execution_count": 34,
   "metadata": {},
   "outputs": [],
   "source": [
    "model_3_heat = ols(formula=\"SalePrice ~ SqFtTotLiving + Bedrooms + HeatSource_Status_Encoded\", data=model_heat)\n",
    "model_3_heat_results = model_3_heat.fit()"
   ]
  },
  {
   "cell_type": "code",
   "execution_count": 35,
   "metadata": {},
   "outputs": [
    {
     "data": {
      "text/html": [
       "<table class=\"simpletable\">\n",
       "<caption>OLS Regression Results</caption>\n",
       "<tr>\n",
       "  <th>Dep. Variable:</th>        <td>SalePrice</td>    <th>  R-squared:         </th>  <td>   0.432</td>  \n",
       "</tr>\n",
       "<tr>\n",
       "  <th>Model:</th>                   <td>OLS</td>       <th>  Adj. R-squared:    </th>  <td>   0.432</td>  \n",
       "</tr>\n",
       "<tr>\n",
       "  <th>Method:</th>             <td>Least Squares</td>  <th>  F-statistic:       </th>  <td>1.273e+04</td> \n",
       "</tr>\n",
       "<tr>\n",
       "  <th>Date:</th>             <td>Mon, 29 Mar 2021</td> <th>  Prob (F-statistic):</th>   <td>  0.00</td>   \n",
       "</tr>\n",
       "<tr>\n",
       "  <th>Time:</th>                 <td>06:40:12</td>     <th>  Log-Likelihood:    </th> <td>-7.1737e+05</td>\n",
       "</tr>\n",
       "<tr>\n",
       "  <th>No. Observations:</th>      <td> 50286</td>      <th>  AIC:               </th>  <td>1.435e+06</td> \n",
       "</tr>\n",
       "<tr>\n",
       "  <th>Df Residuals:</th>          <td> 50282</td>      <th>  BIC:               </th>  <td>1.435e+06</td> \n",
       "</tr>\n",
       "<tr>\n",
       "  <th>Df Model:</th>              <td>     3</td>      <th>                     </th>      <td> </td>     \n",
       "</tr>\n",
       "<tr>\n",
       "  <th>Covariance Type:</th>      <td>nonrobust</td>    <th>                     </th>      <td> </td>     \n",
       "</tr>\n",
       "</table>\n",
       "<table class=\"simpletable\">\n",
       "<tr>\n",
       "              <td></td>                 <th>coef</th>     <th>std err</th>      <th>t</th>      <th>P>|t|</th>  <th>[0.025</th>    <th>0.975]</th>  \n",
       "</tr>\n",
       "<tr>\n",
       "  <th>Intercept</th>                 <td> 2.493e+05</td> <td> 6792.653</td> <td>   36.696</td> <td> 0.000</td> <td> 2.36e+05</td> <td> 2.63e+05</td>\n",
       "</tr>\n",
       "<tr>\n",
       "  <th>SqFtTotLiving</th>             <td>  387.0426</td> <td>    2.194</td> <td>  176.404</td> <td> 0.000</td> <td>  382.742</td> <td>  391.343</td>\n",
       "</tr>\n",
       "<tr>\n",
       "  <th>Bedrooms</th>                  <td>-1.015e+05</td> <td> 2359.870</td> <td>  -42.997</td> <td> 0.000</td> <td>-1.06e+05</td> <td>-9.68e+04</td>\n",
       "</tr>\n",
       "<tr>\n",
       "  <th>HeatSource_Status_Encoded</th> <td> 4.427e+04</td> <td> 4.82e+04</td> <td>    0.918</td> <td> 0.359</td> <td>-5.03e+04</td> <td> 1.39e+05</td>\n",
       "</tr>\n",
       "</table>\n",
       "<table class=\"simpletable\">\n",
       "<tr>\n",
       "  <th>Omnibus:</th>       <td>21310.653</td> <th>  Durbin-Watson:     </th>  <td>   1.905</td> \n",
       "</tr>\n",
       "<tr>\n",
       "  <th>Prob(Omnibus):</th>  <td> 0.000</td>   <th>  Jarque-Bera (JB):  </th> <td>217677.199</td>\n",
       "</tr>\n",
       "<tr>\n",
       "  <th>Skew:</th>           <td> 1.764</td>   <th>  Prob(JB):          </th>  <td>    0.00</td> \n",
       "</tr>\n",
       "<tr>\n",
       "  <th>Kurtosis:</th>       <td>12.563</td>   <th>  Cond. No.          </th>  <td>7.08e+04</td> \n",
       "</tr>\n",
       "</table><br/><br/>Warnings:<br/>[1] Standard Errors assume that the covariance matrix of the errors is correctly specified.<br/>[2] The condition number is large, 7.08e+04. This might indicate that there are<br/>strong multicollinearity or other numerical problems."
      ],
      "text/plain": [
       "<class 'statsmodels.iolib.summary.Summary'>\n",
       "\"\"\"\n",
       "                            OLS Regression Results                            \n",
       "==============================================================================\n",
       "Dep. Variable:              SalePrice   R-squared:                       0.432\n",
       "Model:                            OLS   Adj. R-squared:                  0.432\n",
       "Method:                 Least Squares   F-statistic:                 1.273e+04\n",
       "Date:                Mon, 29 Mar 2021   Prob (F-statistic):               0.00\n",
       "Time:                        06:40:12   Log-Likelihood:            -7.1737e+05\n",
       "No. Observations:               50286   AIC:                         1.435e+06\n",
       "Df Residuals:                   50282   BIC:                         1.435e+06\n",
       "Df Model:                           3                                         \n",
       "Covariance Type:            nonrobust                                         \n",
       "=============================================================================================\n",
       "                                coef    std err          t      P>|t|      [0.025      0.975]\n",
       "---------------------------------------------------------------------------------------------\n",
       "Intercept                  2.493e+05   6792.653     36.696      0.000    2.36e+05    2.63e+05\n",
       "SqFtTotLiving               387.0426      2.194    176.404      0.000     382.742     391.343\n",
       "Bedrooms                  -1.015e+05   2359.870    -42.997      0.000   -1.06e+05   -9.68e+04\n",
       "HeatSource_Status_Encoded  4.427e+04   4.82e+04      0.918      0.359   -5.03e+04    1.39e+05\n",
       "==============================================================================\n",
       "Omnibus:                    21310.653   Durbin-Watson:                   1.905\n",
       "Prob(Omnibus):                  0.000   Jarque-Bera (JB):           217677.199\n",
       "Skew:                           1.764   Prob(JB):                         0.00\n",
       "Kurtosis:                      12.563   Cond. No.                     7.08e+04\n",
       "==============================================================================\n",
       "\n",
       "Warnings:\n",
       "[1] Standard Errors assume that the covariance matrix of the errors is correctly specified.\n",
       "[2] The condition number is large, 7.08e+04. This might indicate that there are\n",
       "strong multicollinearity or other numerical problems.\n",
       "\"\"\""
      ]
     },
     "execution_count": 35,
     "metadata": {},
     "output_type": "execute_result"
    }
   ],
   "source": [
    "model_3_heat_results.summary()"
   ]
  },
  {
   "cell_type": "code",
   "execution_count": 36,
   "metadata": {},
   "outputs": [
    {
     "name": "stdout",
     "output_type": "stream",
     "text": [
      "Rainbow statistic: 1.0049052204704902\n",
      "Rainbow p-value: 0.34903440732874863\n"
     ]
    }
   ],
   "source": [
    "rainbow_statistic, rainbow_p_value = linear_rainbow(model_3_heat_results)\n",
    "print(\"Rainbow statistic:\", rainbow_statistic)\n",
    "print(\"Rainbow p-value:\", rainbow_p_value)"
   ]
  },
  {
   "cell_type": "code",
   "execution_count": 37,
   "metadata": {},
   "outputs": [],
   "source": [
    "porch = sp_over_25k.drop(['BathFullCount', 'Bedrooms', 'SqFtEnclosedPorch', 'SqFtFinBasement', 'HeatSource'], axis=1)"
   ]
  },
  {
   "cell_type": "code",
   "execution_count": 38,
   "metadata": {},
   "outputs": [],
   "source": [
    "porch['SqFtPorch'] = porch['SqFtOpenPorch']"
   ]
  },
  {
   "cell_type": "code",
   "execution_count": 39,
   "metadata": {},
   "outputs": [],
   "source": [
    "porch = porch[porch.SalePrice<5000000]"
   ]
  },
  {
   "cell_type": "code",
   "execution_count": 40,
   "metadata": {},
   "outputs": [],
   "source": [
    "porch['SqFtOpenPorch'].values[porch['SqFtOpenPorch'].values > 0] = 1\n",
    "        "
   ]
  },
  {
   "cell_type": "code",
   "execution_count": 41,
   "metadata": {},
   "outputs": [
    {
     "data": {
      "text/html": [
       "<div>\n",
       "<style scoped>\n",
       "    .dataframe tbody tr th:only-of-type {\n",
       "        vertical-align: middle;\n",
       "    }\n",
       "\n",
       "    .dataframe tbody tr th {\n",
       "        vertical-align: top;\n",
       "    }\n",
       "\n",
       "    .dataframe thead th {\n",
       "        text-align: right;\n",
       "    }\n",
       "</style>\n",
       "<table border=\"1\" class=\"dataframe\">\n",
       "  <thead>\n",
       "    <tr style=\"text-align: right;\">\n",
       "      <th></th>\n",
       "      <th>SalePrice</th>\n",
       "      <th>SqFtTotLiving</th>\n",
       "      <th>SqFtOpenPorch</th>\n",
       "      <th>SqFtTotBasement</th>\n",
       "      <th>SqFtPorch</th>\n",
       "    </tr>\n",
       "  </thead>\n",
       "  <tbody>\n",
       "    <tr>\n",
       "      <th>11</th>\n",
       "      <td>560000</td>\n",
       "      <td>1930</td>\n",
       "      <td>1</td>\n",
       "      <td>0</td>\n",
       "      <td>180</td>\n",
       "    </tr>\n",
       "    <tr>\n",
       "      <th>12</th>\n",
       "      <td>435000</td>\n",
       "      <td>1975</td>\n",
       "      <td>1</td>\n",
       "      <td>0</td>\n",
       "      <td>45</td>\n",
       "    </tr>\n",
       "    <tr>\n",
       "      <th>17</th>\n",
       "      <td>400000</td>\n",
       "      <td>3180</td>\n",
       "      <td>1</td>\n",
       "      <td>1590</td>\n",
       "      <td>50</td>\n",
       "    </tr>\n",
       "    <tr>\n",
       "      <th>19</th>\n",
       "      <td>520000</td>\n",
       "      <td>1380</td>\n",
       "      <td>0</td>\n",
       "      <td>0</td>\n",
       "      <td>0</td>\n",
       "    </tr>\n",
       "    <tr>\n",
       "      <th>21</th>\n",
       "      <td>425000</td>\n",
       "      <td>1990</td>\n",
       "      <td>1</td>\n",
       "      <td>0</td>\n",
       "      <td>280</td>\n",
       "    </tr>\n",
       "    <tr>\n",
       "      <th>...</th>\n",
       "      <td>...</td>\n",
       "      <td>...</td>\n",
       "      <td>...</td>\n",
       "      <td>...</td>\n",
       "      <td>...</td>\n",
       "    </tr>\n",
       "    <tr>\n",
       "      <th>251280</th>\n",
       "      <td>625000</td>\n",
       "      <td>2550</td>\n",
       "      <td>1</td>\n",
       "      <td>0</td>\n",
       "      <td>100</td>\n",
       "    </tr>\n",
       "    <tr>\n",
       "      <th>251284</th>\n",
       "      <td>980000</td>\n",
       "      <td>2660</td>\n",
       "      <td>1</td>\n",
       "      <td>1080</td>\n",
       "      <td>40</td>\n",
       "    </tr>\n",
       "    <tr>\n",
       "      <th>251286</th>\n",
       "      <td>680000</td>\n",
       "      <td>2270</td>\n",
       "      <td>0</td>\n",
       "      <td>1520</td>\n",
       "      <td>0</td>\n",
       "    </tr>\n",
       "    <tr>\n",
       "      <th>251294</th>\n",
       "      <td>440000</td>\n",
       "      <td>2780</td>\n",
       "      <td>0</td>\n",
       "      <td>1590</td>\n",
       "      <td>0</td>\n",
       "    </tr>\n",
       "    <tr>\n",
       "      <th>251297</th>\n",
       "      <td>850000</td>\n",
       "      <td>1740</td>\n",
       "      <td>1</td>\n",
       "      <td>0</td>\n",
       "      <td>270</td>\n",
       "    </tr>\n",
       "  </tbody>\n",
       "</table>\n",
       "<p>70115 rows × 5 columns</p>\n",
       "</div>"
      ],
      "text/plain": [
       "        SalePrice  SqFtTotLiving  SqFtOpenPorch  SqFtTotBasement  SqFtPorch\n",
       "11         560000           1930              1                0        180\n",
       "12         435000           1975              1                0         45\n",
       "17         400000           3180              1             1590         50\n",
       "19         520000           1380              0                0          0\n",
       "21         425000           1990              1                0        280\n",
       "...           ...            ...            ...              ...        ...\n",
       "251280     625000           2550              1                0        100\n",
       "251284     980000           2660              1             1080         40\n",
       "251286     680000           2270              0             1520          0\n",
       "251294     440000           2780              0             1590          0\n",
       "251297     850000           1740              1                0        270\n",
       "\n",
       "[70115 rows x 5 columns]"
      ]
     },
     "execution_count": 41,
     "metadata": {},
     "output_type": "execute_result"
    }
   ],
   "source": [
    "porch"
   ]
  },
  {
   "cell_type": "code",
   "execution_count": 42,
   "metadata": {},
   "outputs": [
    {
     "data": {
      "text/plain": [
       "0    35147\n",
       "1    34968\n",
       "Name: SqFtOpenPorch, dtype: int64"
      ]
     },
     "execution_count": 42,
     "metadata": {},
     "output_type": "execute_result"
    }
   ],
   "source": [
    "porch[\"SqFtOpenPorch\"].value_counts()"
   ]
  },
  {
   "cell_type": "code",
   "execution_count": 43,
   "metadata": {},
   "outputs": [
    {
     "data": {
      "image/png": "[encoded data removed]",
      "text/plain": [
       "<Figure size 360x360 with 1 Axes>"
      ]
     },
     "metadata": {
      "needs_background": "light"
     },
     "output_type": "display_data"
    }
   ],
   "source": [
    "sns.catplot(x=\"SqFtOpenPorch\", y=\"SalePrice\", data=porch, kind=\"violin\");"
   ]
  },
  {
   "cell_type": "code",
   "execution_count": 44,
   "metadata": {},
   "outputs": [],
   "source": [
    "fs_model_porch = forward_selected(porch, 'SalePrice')"
   ]
  },
  {
   "cell_type": "code",
   "execution_count": 45,
   "metadata": {},
   "outputs": [
    {
     "data": {
      "text/html": [
       "<table class=\"simpletable\">\n",
       "<caption>OLS Regression Results</caption>\n",
       "<tr>\n",
       "  <th>Dep. Variable:</th>        <td>SalePrice</td>    <th>  R-squared:         </th>  <td>   0.396</td>  \n",
       "</tr>\n",
       "<tr>\n",
       "  <th>Model:</th>                   <td>OLS</td>       <th>  Adj. R-squared:    </th>  <td>   0.396</td>  \n",
       "</tr>\n",
       "<tr>\n",
       "  <th>Method:</th>             <td>Least Squares</td>  <th>  F-statistic:       </th>  <td>1.150e+04</td> \n",
       "</tr>\n",
       "<tr>\n",
       "  <th>Date:</th>             <td>Mon, 29 Mar 2021</td> <th>  Prob (F-statistic):</th>   <td>  0.00</td>   \n",
       "</tr>\n",
       "<tr>\n",
       "  <th>Time:</th>                 <td>06:40:14</td>     <th>  Log-Likelihood:    </th> <td>-9.9810e+05</td>\n",
       "</tr>\n",
       "<tr>\n",
       "  <th>No. Observations:</th>      <td> 70115</td>      <th>  AIC:               </th>  <td>1.996e+06</td> \n",
       "</tr>\n",
       "<tr>\n",
       "  <th>Df Residuals:</th>          <td> 70110</td>      <th>  BIC:               </th>  <td>1.996e+06</td> \n",
       "</tr>\n",
       "<tr>\n",
       "  <th>Df Model:</th>              <td>     4</td>      <th>                     </th>      <td> </td>     \n",
       "</tr>\n",
       "<tr>\n",
       "  <th>Covariance Type:</th>      <td>nonrobust</td>    <th>                     </th>      <td> </td>     \n",
       "</tr>\n",
       "</table>\n",
       "<table class=\"simpletable\">\n",
       "<tr>\n",
       "         <td></td>            <th>coef</th>     <th>std err</th>      <th>t</th>      <th>P>|t|</th>  <th>[0.025</th>    <th>0.975]</th>  \n",
       "</tr>\n",
       "<tr>\n",
       "  <th>Intercept</th>       <td> 8.723e+04</td> <td> 3501.643</td> <td>   24.912</td> <td> 0.000</td> <td> 8.04e+04</td> <td> 9.41e+04</td>\n",
       "</tr>\n",
       "<tr>\n",
       "  <th>SqFtTotLiving</th>   <td>  280.9856</td> <td>    1.715</td> <td>  163.844</td> <td> 0.000</td> <td>  277.624</td> <td>  284.347</td>\n",
       "</tr>\n",
       "<tr>\n",
       "  <th>SqFtTotBasement</th> <td>   69.1171</td> <td>    2.598</td> <td>   26.606</td> <td> 0.000</td> <td>   64.025</td> <td>   74.209</td>\n",
       "</tr>\n",
       "<tr>\n",
       "  <th>SqFtPorch</th>       <td>  227.4588</td> <td>   13.707</td> <td>   16.594</td> <td> 0.000</td> <td>  200.593</td> <td>  254.325</td>\n",
       "</tr>\n",
       "<tr>\n",
       "  <th>SqFtOpenPorch</th>   <td>-6955.4429</td> <td> 3406.569</td> <td>   -2.042</td> <td> 0.041</td> <td>-1.36e+04</td> <td> -278.574</td>\n",
       "</tr>\n",
       "</table>\n",
       "<table class=\"simpletable\">\n",
       "<tr>\n",
       "  <th>Omnibus:</th>       <td>34141.763</td> <th>  Durbin-Watson:     </th>  <td>   1.874</td> \n",
       "</tr>\n",
       "<tr>\n",
       "  <th>Prob(Omnibus):</th>  <td> 0.000</td>   <th>  Jarque-Bera (JB):  </th> <td>477454.211</td>\n",
       "</tr>\n",
       "<tr>\n",
       "  <th>Skew:</th>           <td> 1.997</td>   <th>  Prob(JB):          </th>  <td>    0.00</td> \n",
       "</tr>\n",
       "<tr>\n",
       "  <th>Kurtosis:</th>       <td>15.144</td>   <th>  Cond. No.          </th>  <td>6.61e+03</td> \n",
       "</tr>\n",
       "</table><br/><br/>Warnings:<br/>[1] Standard Errors assume that the covariance matrix of the errors is correctly specified.<br/>[2] The condition number is large, 6.61e+03. This might indicate that there are<br/>strong multicollinearity or other numerical problems."
      ],
      "text/plain": [
       "<class 'statsmodels.iolib.summary.Summary'>\n",
       "\"\"\"\n",
       "                            OLS Regression Results                            \n",
       "==============================================================================\n",
       "Dep. Variable:              SalePrice   R-squared:                       0.396\n",
       "Model:                            OLS   Adj. R-squared:                  0.396\n",
       "Method:                 Least Squares   F-statistic:                 1.150e+04\n",
       "Date:                Mon, 29 Mar 2021   Prob (F-statistic):               0.00\n",
       "Time:                        06:40:14   Log-Likelihood:            -9.9810e+05\n",
       "No. Observations:               70115   AIC:                         1.996e+06\n",
       "Df Residuals:                   70110   BIC:                         1.996e+06\n",
       "Df Model:                           4                                         \n",
       "Covariance Type:            nonrobust                                         \n",
       "===================================================================================\n",
       "                      coef    std err          t      P>|t|      [0.025      0.975]\n",
       "-----------------------------------------------------------------------------------\n",
       "Intercept        8.723e+04   3501.643     24.912      0.000    8.04e+04    9.41e+04\n",
       "SqFtTotLiving     280.9856      1.715    163.844      0.000     277.624     284.347\n",
       "SqFtTotBasement    69.1171      2.598     26.606      0.000      64.025      74.209\n",
       "SqFtPorch         227.4588     13.707     16.594      0.000     200.593     254.325\n",
       "SqFtOpenPorch   -6955.4429   3406.569     -2.042      0.041   -1.36e+04    -278.574\n",
       "==============================================================================\n",
       "Omnibus:                    34141.763   Durbin-Watson:                   1.874\n",
       "Prob(Omnibus):                  0.000   Jarque-Bera (JB):           477454.211\n",
       "Skew:                           1.997   Prob(JB):                         0.00\n",
       "Kurtosis:                      15.144   Cond. No.                     6.61e+03\n",
       "==============================================================================\n",
       "\n",
       "Warnings:\n",
       "[1] Standard Errors assume that the covariance matrix of the errors is correctly specified.\n",
       "[2] The condition number is large, 6.61e+03. This might indicate that there are\n",
       "strong multicollinearity or other numerical problems.\n",
       "\"\"\""
      ]
     },
     "execution_count": 45,
     "metadata": {},
     "output_type": "execute_result"
    }
   ],
   "source": [
    "fs_model_porch.summary()"
   ]
  },
  {
   "cell_type": "code",
   "execution_count": 46,
   "metadata": {},
   "outputs": [
    {
     "name": "stdout",
     "output_type": "stream",
     "text": [
      "Rainbow statistic: 0.9921498174609399\n",
      "Rainbow p-value: 0.7696783429430067\n"
     ]
    }
   ],
   "source": [
    "rainbow_statistic, rainbow_p_value = linear_rainbow(fs_model_porch)\n",
    "print(\"Rainbow statistic:\", rainbow_statistic)\n",
    "print(\"Rainbow p-value:\", rainbow_p_value)"
   ]
  },
  {
   "cell_type": "code",
   "execution_count": 47,
   "metadata": {},
   "outputs": [],
   "source": [
    "y_porch = porch[\"SalePrice\"]\n",
    "y_hat_porch = fs_model_porch.predict()"
   ]
  },
  {
   "cell_type": "code",
   "execution_count": 48,
   "metadata": {},
   "outputs": [
    {
     "data": {
      "image/png": "[encoded data removed]",
      "text/plain": [
       "<Figure size 432x288 with 1 Axes>"
      ]
     },
     "metadata": {
      "needs_background": "light"
     },
     "output_type": "display_data"
    }
   ],
   "source": [
    "fig5, ax5 = plt.subplots()\n",
    "ax5.set(xlabel=\"Predicted Sale Price\",\n",
    "        ylabel=\"Residuals (Predicted - Actual Sale Price)\")\n",
    "ax5.scatter(x=y_hat_porch, y=y_hat_porch-y_porch, color=\"blue\", alpha=0.2);"
   ]
  },
  {
   "cell_type": "code",
   "execution_count": 49,
   "metadata": {},
   "outputs": [
    {
     "data": {
      "text/html": [
       "<div>\n",
       "<style scoped>\n",
       "    .dataframe tbody tr th:only-of-type {\n",
       "        vertical-align: middle;\n",
       "    }\n",
       "\n",
       "    .dataframe tbody tr th {\n",
       "        vertical-align: top;\n",
       "    }\n",
       "\n",
       "    .dataframe thead th {\n",
       "        text-align: right;\n",
       "    }\n",
       "</style>\n",
       "<table border=\"1\" class=\"dataframe\">\n",
       "  <thead>\n",
       "    <tr style=\"text-align: right;\">\n",
       "      <th></th>\n",
       "      <th>VIF</th>\n",
       "      <th>feature</th>\n",
       "    </tr>\n",
       "  </thead>\n",
       "  <tbody>\n",
       "    <tr>\n",
       "      <th>0</th>\n",
       "      <td>1.817891</td>\n",
       "      <td>SalePrice</td>\n",
       "    </tr>\n",
       "    <tr>\n",
       "      <th>1</th>\n",
       "      <td>1.817891</td>\n",
       "      <td>SqFtOpenPorch</td>\n",
       "    </tr>\n",
       "  </tbody>\n",
       "</table>\n",
       "</div>"
      ],
      "text/plain": [
       "        VIF        feature\n",
       "0  1.817891      SalePrice\n",
       "1  1.817891  SqFtOpenPorch"
      ]
     },
     "execution_count": 49,
     "metadata": {},
     "output_type": "execute_result"
    }
   ],
   "source": [
    "rows_porch = porch[[\"SalePrice\", \"SqFtOpenPorch\"]].values\n",
    "\n",
    "vif_df_porch = pd.DataFrame()\n",
    "vif_df_porch[\"VIF\"] = [variance_inflation_factor(rows_porch, i) for i in range(2)]\n",
    "vif_df_porch[\"feature\"] = [\"SalePrice\", \"SqFtOpenPorch\"]\n",
    "\n",
    "vif_df_porch"
   ]
  },
  {
   "cell_type": "code",
   "execution_count": 50,
   "metadata": {},
   "outputs": [
    {
     "data": {
      "text/html": [
       "<div>\n",
       "<style scoped>\n",
       "    .dataframe tbody tr th:only-of-type {\n",
       "        vertical-align: middle;\n",
       "    }\n",
       "\n",
       "    .dataframe tbody tr th {\n",
       "        vertical-align: top;\n",
       "    }\n",
       "\n",
       "    .dataframe thead th {\n",
       "        text-align: right;\n",
       "    }\n",
       "</style>\n",
       "<table border=\"1\" class=\"dataframe\">\n",
       "  <thead>\n",
       "    <tr style=\"text-align: right;\">\n",
       "      <th></th>\n",
       "      <th>SalePrice</th>\n",
       "      <th>SqFtTotLiving</th>\n",
       "      <th>BathFullCount</th>\n",
       "      <th>Bedrooms</th>\n",
       "      <th>SqFtOpenPorch</th>\n",
       "      <th>SqFtEnclosedPorch</th>\n",
       "      <th>SqFtTotBasement</th>\n",
       "      <th>SqFtFinBasement</th>\n",
       "      <th>HeatSource</th>\n",
       "    </tr>\n",
       "  </thead>\n",
       "  <tbody>\n",
       "    <tr>\n",
       "      <th>11</th>\n",
       "      <td>560000</td>\n",
       "      <td>1930</td>\n",
       "      <td>2</td>\n",
       "      <td>3</td>\n",
       "      <td>180</td>\n",
       "      <td>0</td>\n",
       "      <td>0</td>\n",
       "      <td>0</td>\n",
       "      <td>2</td>\n",
       "    </tr>\n",
       "    <tr>\n",
       "      <th>12</th>\n",
       "      <td>435000</td>\n",
       "      <td>1975</td>\n",
       "      <td>1</td>\n",
       "      <td>3</td>\n",
       "      <td>45</td>\n",
       "      <td>0</td>\n",
       "      <td>0</td>\n",
       "      <td>0</td>\n",
       "      <td>2</td>\n",
       "    </tr>\n",
       "    <tr>\n",
       "      <th>17</th>\n",
       "      <td>400000</td>\n",
       "      <td>3180</td>\n",
       "      <td>1</td>\n",
       "      <td>6</td>\n",
       "      <td>50</td>\n",
       "      <td>0</td>\n",
       "      <td>1590</td>\n",
       "      <td>1590</td>\n",
       "      <td>2</td>\n",
       "    </tr>\n",
       "    <tr>\n",
       "      <th>19</th>\n",
       "      <td>520000</td>\n",
       "      <td>1380</td>\n",
       "      <td>1</td>\n",
       "      <td>3</td>\n",
       "      <td>0</td>\n",
       "      <td>0</td>\n",
       "      <td>0</td>\n",
       "      <td>0</td>\n",
       "      <td>1</td>\n",
       "    </tr>\n",
       "    <tr>\n",
       "      <th>21</th>\n",
       "      <td>425000</td>\n",
       "      <td>1990</td>\n",
       "      <td>2</td>\n",
       "      <td>3</td>\n",
       "      <td>280</td>\n",
       "      <td>0</td>\n",
       "      <td>0</td>\n",
       "      <td>0</td>\n",
       "      <td>2</td>\n",
       "    </tr>\n",
       "    <tr>\n",
       "      <th>...</th>\n",
       "      <td>...</td>\n",
       "      <td>...</td>\n",
       "      <td>...</td>\n",
       "      <td>...</td>\n",
       "      <td>...</td>\n",
       "      <td>...</td>\n",
       "      <td>...</td>\n",
       "      <td>...</td>\n",
       "      <td>...</td>\n",
       "    </tr>\n",
       "    <tr>\n",
       "      <th>251286</th>\n",
       "      <td>680000</td>\n",
       "      <td>2270</td>\n",
       "      <td>1</td>\n",
       "      <td>3</td>\n",
       "      <td>0</td>\n",
       "      <td>0</td>\n",
       "      <td>1520</td>\n",
       "      <td>750</td>\n",
       "      <td>1</td>\n",
       "    </tr>\n",
       "    <tr>\n",
       "      <th>251288</th>\n",
       "      <td>6500000</td>\n",
       "      <td>440</td>\n",
       "      <td>0</td>\n",
       "      <td>0</td>\n",
       "      <td>0</td>\n",
       "      <td>0</td>\n",
       "      <td>0</td>\n",
       "      <td>0</td>\n",
       "      <td>0</td>\n",
       "    </tr>\n",
       "    <tr>\n",
       "      <th>251289</th>\n",
       "      <td>6500000</td>\n",
       "      <td>6390</td>\n",
       "      <td>4</td>\n",
       "      <td>5</td>\n",
       "      <td>890</td>\n",
       "      <td>0</td>\n",
       "      <td>1670</td>\n",
       "      <td>1670</td>\n",
       "      <td>2</td>\n",
       "    </tr>\n",
       "    <tr>\n",
       "      <th>251294</th>\n",
       "      <td>440000</td>\n",
       "      <td>2780</td>\n",
       "      <td>3</td>\n",
       "      <td>4</td>\n",
       "      <td>0</td>\n",
       "      <td>0</td>\n",
       "      <td>1590</td>\n",
       "      <td>920</td>\n",
       "      <td>2</td>\n",
       "    </tr>\n",
       "    <tr>\n",
       "      <th>251297</th>\n",
       "      <td>850000</td>\n",
       "      <td>1740</td>\n",
       "      <td>2</td>\n",
       "      <td>4</td>\n",
       "      <td>270</td>\n",
       "      <td>0</td>\n",
       "      <td>0</td>\n",
       "      <td>0</td>\n",
       "      <td>2</td>\n",
       "    </tr>\n",
       "  </tbody>\n",
       "</table>\n",
       "<p>70238 rows × 9 columns</p>\n",
       "</div>"
      ],
      "text/plain": [
       "        SalePrice  SqFtTotLiving  BathFullCount  Bedrooms  SqFtOpenPorch  \\\n",
       "11         560000           1930              2         3            180   \n",
       "12         435000           1975              1         3             45   \n",
       "17         400000           3180              1         6             50   \n",
       "19         520000           1380              1         3              0   \n",
       "21         425000           1990              2         3            280   \n",
       "...           ...            ...            ...       ...            ...   \n",
       "251286     680000           2270              1         3              0   \n",
       "251288    6500000            440              0         0              0   \n",
       "251289    6500000           6390              4         5            890   \n",
       "251294     440000           2780              3         4              0   \n",
       "251297     850000           1740              2         4            270   \n",
       "\n",
       "        SqFtEnclosedPorch  SqFtTotBasement  SqFtFinBasement  HeatSource  \n",
       "11                      0                0                0           2  \n",
       "12                      0                0                0           2  \n",
       "17                      0             1590             1590           2  \n",
       "19                      0                0                0           1  \n",
       "21                      0                0                0           2  \n",
       "...                   ...              ...              ...         ...  \n",
       "251286                  0             1520              750           1  \n",
       "251288                  0                0                0           0  \n",
       "251289                  0             1670             1670           2  \n",
       "251294                  0             1590              920           2  \n",
       "251297                  0                0                0           2  \n",
       "\n",
       "[70238 rows x 9 columns]"
      ]
     },
     "execution_count": 50,
     "metadata": {},
     "output_type": "execute_result"
    }
   ],
   "source": [
    "sp_over_25k"
   ]
  },
  {
   "cell_type": "code",
   "execution_count": 51,
   "metadata": {},
   "outputs": [],
   "source": [
    "basement = sp_over_25k[sp_over_25k.SqFtTotBasement>0]"
   ]
  },
  {
   "cell_type": "code",
   "execution_count": 52,
   "metadata": {},
   "outputs": [
    {
     "data": {
      "text/html": [
       "<div>\n",
       "<style scoped>\n",
       "    .dataframe tbody tr th:only-of-type {\n",
       "        vertical-align: middle;\n",
       "    }\n",
       "\n",
       "    .dataframe tbody tr th {\n",
       "        vertical-align: top;\n",
       "    }\n",
       "\n",
       "    .dataframe thead th {\n",
       "        text-align: right;\n",
       "    }\n",
       "</style>\n",
       "<table border=\"1\" class=\"dataframe\">\n",
       "  <thead>\n",
       "    <tr style=\"text-align: right;\">\n",
       "      <th></th>\n",
       "      <th>SalePrice</th>\n",
       "      <th>SqFtTotLiving</th>\n",
       "      <th>BathFullCount</th>\n",
       "      <th>Bedrooms</th>\n",
       "      <th>SqFtOpenPorch</th>\n",
       "      <th>SqFtEnclosedPorch</th>\n",
       "      <th>SqFtTotBasement</th>\n",
       "      <th>SqFtFinBasement</th>\n",
       "      <th>HeatSource</th>\n",
       "    </tr>\n",
       "  </thead>\n",
       "  <tbody>\n",
       "    <tr>\n",
       "      <th>17</th>\n",
       "      <td>400000</td>\n",
       "      <td>3180</td>\n",
       "      <td>1</td>\n",
       "      <td>6</td>\n",
       "      <td>50</td>\n",
       "      <td>0</td>\n",
       "      <td>1590</td>\n",
       "      <td>1590</td>\n",
       "      <td>2</td>\n",
       "    </tr>\n",
       "    <tr>\n",
       "      <th>29</th>\n",
       "      <td>812000</td>\n",
       "      <td>2050</td>\n",
       "      <td>2</td>\n",
       "      <td>4</td>\n",
       "      <td>0</td>\n",
       "      <td>0</td>\n",
       "      <td>1480</td>\n",
       "      <td>200</td>\n",
       "      <td>3</td>\n",
       "    </tr>\n",
       "    <tr>\n",
       "      <th>30</th>\n",
       "      <td>370000</td>\n",
       "      <td>1750</td>\n",
       "      <td>2</td>\n",
       "      <td>3</td>\n",
       "      <td>0</td>\n",
       "      <td>0</td>\n",
       "      <td>1130</td>\n",
       "      <td>460</td>\n",
       "      <td>2</td>\n",
       "    </tr>\n",
       "    <tr>\n",
       "      <th>32</th>\n",
       "      <td>1553000</td>\n",
       "      <td>2090</td>\n",
       "      <td>2</td>\n",
       "      <td>4</td>\n",
       "      <td>200</td>\n",
       "      <td>0</td>\n",
       "      <td>860</td>\n",
       "      <td>120</td>\n",
       "      <td>2</td>\n",
       "    </tr>\n",
       "    <tr>\n",
       "      <th>52</th>\n",
       "      <td>530000</td>\n",
       "      <td>1090</td>\n",
       "      <td>1</td>\n",
       "      <td>2</td>\n",
       "      <td>30</td>\n",
       "      <td>0</td>\n",
       "      <td>440</td>\n",
       "      <td>180</td>\n",
       "      <td>2</td>\n",
       "    </tr>\n",
       "    <tr>\n",
       "      <th>...</th>\n",
       "      <td>...</td>\n",
       "      <td>...</td>\n",
       "      <td>...</td>\n",
       "      <td>...</td>\n",
       "      <td>...</td>\n",
       "      <td>...</td>\n",
       "      <td>...</td>\n",
       "      <td>...</td>\n",
       "      <td>...</td>\n",
       "    </tr>\n",
       "    <tr>\n",
       "      <th>251278</th>\n",
       "      <td>828130</td>\n",
       "      <td>2340</td>\n",
       "      <td>2</td>\n",
       "      <td>3</td>\n",
       "      <td>0</td>\n",
       "      <td>0</td>\n",
       "      <td>2340</td>\n",
       "      <td>0</td>\n",
       "      <td>2</td>\n",
       "    </tr>\n",
       "    <tr>\n",
       "      <th>251284</th>\n",
       "      <td>980000</td>\n",
       "      <td>2660</td>\n",
       "      <td>1</td>\n",
       "      <td>6</td>\n",
       "      <td>40</td>\n",
       "      <td>0</td>\n",
       "      <td>1080</td>\n",
       "      <td>1080</td>\n",
       "      <td>2</td>\n",
       "    </tr>\n",
       "    <tr>\n",
       "      <th>251286</th>\n",
       "      <td>680000</td>\n",
       "      <td>2270</td>\n",
       "      <td>1</td>\n",
       "      <td>3</td>\n",
       "      <td>0</td>\n",
       "      <td>0</td>\n",
       "      <td>1520</td>\n",
       "      <td>750</td>\n",
       "      <td>1</td>\n",
       "    </tr>\n",
       "    <tr>\n",
       "      <th>251289</th>\n",
       "      <td>6500000</td>\n",
       "      <td>6390</td>\n",
       "      <td>4</td>\n",
       "      <td>5</td>\n",
       "      <td>890</td>\n",
       "      <td>0</td>\n",
       "      <td>1670</td>\n",
       "      <td>1670</td>\n",
       "      <td>2</td>\n",
       "    </tr>\n",
       "    <tr>\n",
       "      <th>251294</th>\n",
       "      <td>440000</td>\n",
       "      <td>2780</td>\n",
       "      <td>3</td>\n",
       "      <td>4</td>\n",
       "      <td>0</td>\n",
       "      <td>0</td>\n",
       "      <td>1590</td>\n",
       "      <td>920</td>\n",
       "      <td>2</td>\n",
       "    </tr>\n",
       "  </tbody>\n",
       "</table>\n",
       "<p>33987 rows × 9 columns</p>\n",
       "</div>"
      ],
      "text/plain": [
       "        SalePrice  SqFtTotLiving  BathFullCount  Bedrooms  SqFtOpenPorch  \\\n",
       "17         400000           3180              1         6             50   \n",
       "29         812000           2050              2         4              0   \n",
       "30         370000           1750              2         3              0   \n",
       "32        1553000           2090              2         4            200   \n",
       "52         530000           1090              1         2             30   \n",
       "...           ...            ...            ...       ...            ...   \n",
       "251278     828130           2340              2         3              0   \n",
       "251284     980000           2660              1         6             40   \n",
       "251286     680000           2270              1         3              0   \n",
       "251289    6500000           6390              4         5            890   \n",
       "251294     440000           2780              3         4              0   \n",
       "\n",
       "        SqFtEnclosedPorch  SqFtTotBasement  SqFtFinBasement  HeatSource  \n",
       "17                      0             1590             1590           2  \n",
       "29                      0             1480              200           3  \n",
       "30                      0             1130              460           2  \n",
       "32                      0              860              120           2  \n",
       "52                      0              440              180           2  \n",
       "...                   ...              ...              ...         ...  \n",
       "251278                  0             2340                0           2  \n",
       "251284                  0             1080             1080           2  \n",
       "251286                  0             1520              750           1  \n",
       "251289                  0             1670             1670           2  \n",
       "251294                  0             1590              920           2  \n",
       "\n",
       "[33987 rows x 9 columns]"
      ]
     },
     "execution_count": 52,
     "metadata": {},
     "output_type": "execute_result"
    }
   ],
   "source": [
    "basement"
   ]
  },
  {
   "cell_type": "code",
   "execution_count": 53,
   "metadata": {},
   "outputs": [
    {
     "name": "stderr",
     "output_type": "stream",
     "text": [
      "<ipython-input-53-684b57efc7e3>:1: SettingWithCopyWarning: \n",
      "A value is trying to be set on a copy of a slice from a DataFrame.\n",
      "Try using .loc[row_indexer,col_indexer] = value instead\n",
      "\n",
      "See the caveats in the documentation: https://pandas.pydata.org/pandas-docs/stable/user_guide/indexing.html#returning-a-view-versus-a-copy\n",
      "  basement['UnfinishedBasement'] = basement['SqFtTotBasement'] - basement['SqFtFinBasement']\n"
     ]
    }
   ],
   "source": [
    "basement['UnfinishedBasement'] = basement['SqFtTotBasement'] - basement['SqFtFinBasement']"
   ]
  },
  {
   "cell_type": "code",
   "execution_count": null,
   "metadata": {},
   "outputs": [],
   "source": []
  }
 ],
 "metadata": {
  "kernelspec": {
   "display_name": "Python 3",
   "language": "python",
   "name": "python3"
  },
  "language_info": {
   "codemirror_mode": {
    "name": "ipython",
    "version": 3
   },
   "file_extension": ".py",
   "mimetype": "text/x-python",
   "name": "python",
   "nbconvert_exporter": "python",
   "pygments_lexer": "ipython3",
   "version": "3.8.3"
  }
 },
 "nbformat": 4,
 "nbformat_minor": 4
}
